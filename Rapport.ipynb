{
 "cells": [
  {
   "cell_type": "markdown",
   "metadata": {},
   "source": [
    "# SVM et LDA"
   ]
  },
  {
   "cell_type": "markdown",
   "metadata": {},
   "source": [
    "## 1. Import dataset\n",
    "\n",
    "[Fashion-MNIST](https://github.com/zalandoresearch/fashion-mnist)"
   ]
  },
  {
   "cell_type": "code",
   "execution_count": 1,
   "metadata": {},
   "outputs": [],
   "source": [
    "#Imports\n",
    "import numpy as np\n",
    "import matplotlib.pyplot as plt\n",
    "from sklearn.svm import SVC\n",
    "from sklearn.multiclass import OneVsRestClassifier"
   ]
  },
  {
   "cell_type": "code",
   "execution_count": 28,
   "metadata": {},
   "outputs": [],
   "source": [
    "import mnist_reader\n",
    "X_train, y_train = mnist_reader.load_mnist('dataset', kind='train')\n",
    "X_test, y_test = mnist_reader.load_mnist('dataset', kind='t10k')\n",
    "\n",
    "\n",
    "\n",
    "\n",
    "## TESTING:::\n",
    "# num_samples = 100\n",
    "# X_train, y_train = (X_train[:num_samples,], y_train[:num_samples])\n",
    "# X_test, y_test = (X_test[:num_samples,], y_test[:num_samples])\n"
   ]
  },
  {
   "cell_type": "markdown",
   "metadata": {},
   "source": [
    "## 2. Overview"
   ]
  },
  {
   "cell_type": "code",
   "execution_count": 29,
   "metadata": {},
   "outputs": [
    {
     "data": {
      "text/plain": [
       "(60000, 784)"
      ]
     },
     "execution_count": 29,
     "metadata": {},
     "output_type": "execute_result"
    }
   ],
   "source": [
    "X_train.shape"
   ]
  },
  {
   "cell_type": "code",
   "execution_count": 30,
   "metadata": {},
   "outputs": [
    {
     "data": {
      "image/png": "[encoded data removed]",
      "text/plain": [
       "<Figure size 432x288 with 1 Axes>"
      ]
     },
     "metadata": {},
     "output_type": "display_data"
    }
   ],
   "source": [
    "plt.hist(y_train, bins='auto')\n",
    "plt.ylabel('Class distribution')\n",
    "plt.show()"
   ]
  },
  {
   "cell_type": "code",
   "execution_count": 4,
   "metadata": {},
   "outputs": [
    {
     "data": {
      "text/plain": [
       "<matplotlib.image.AxesImage at 0x7f6889b94978>"
      ]
     },
     "execution_count": 4,
     "metadata": {},
     "output_type": "execute_result"
    },
    {
     "data": {
      "image/png": "[encoded data removed]",
      "text/plain": [
       "<Figure size 432x288 with 1 Axes>"
      ]
     },
     "metadata": {
      "needs_background": "light"
     },
     "output_type": "display_data"
    }
   ],
   "source": [
    "plt.imshow(np.reshape(X_train[0,:], (28,28)), cmap='gray')"
   ]
  },
  {
   "cell_type": "markdown",
   "metadata": {},
   "source": [
    "## 3. SVM\n",
    "\n",
    "One-vs-the-rest (OvR) multiclass/multilabel strategy\n",
    "\n",
    "Also known as one-vs-all, this strategy consists in fitting one classifier per class. For each classifier, the class is fitted against all the other classes. In addition to its computational efficiency (only n_classes classifiers are needed), one advantage of this approach is its interpretability. Since each class is represented by one and one classifier only, it is possible to gain knowledge about the class by inspecting its corresponding classifier. This is the most commonly used strategy for multiclass classification and is a fair default choice.\n",
    "\n",
    "https://scikit-learn.org/stable/modules/generated/sklearn.multiclass.OneVsRestClassifier.html#sklearn.multiclass.OneVsRestClassifier\n",
    "\n",
    "https://scikit-learn.org/stable/auto_examples/plot_multilabel.html#sphx-glr-auto-examples-plot-multilabel-py\n",
    "\n",
    "\n",
    "Benchmark :\n",
    "http://fashion-mnist.s3-website.eu-central-1.amazonaws.com/\n",
    "\n",
    "\n",
    "\n",
    "\n",
    "SVC\t{\"C\":10,\"kernel\":\"poly\"}\t0.897\t0.000\t1:12:39\t2\t2 years ago\t2 years ago\n",
    "\n",
    "\n",
    "\n",
    "https://github.com/anujdutt9/Fashion-MNIST/blob/master/svm.py"
   ]
  },
  {
   "cell_type": "code",
   "execution_count": 5,
   "metadata": {},
   "outputs": [
    {
     "name": "stdout",
     "output_type": "stream",
     "text": [
      "Starting to fit at: 2019-04-14 10:47:11\n",
      "Done at: 2019-04-14 14:19:52\n",
      "Took 3:32:40.559988 to finish.\n"
     ]
    }
   ],
   "source": [
    "import sys\n",
    "import time\n",
    "import numpy as np\n",
    "import pickle\n",
    "from sklearn import model_selection, svm, preprocessing\n",
    "from sklearn.metrics import accuracy_score,confusion_matrix\n",
    "from sklearn.svm import SVC\n",
    "import matplotlib.pyplot as plt\n",
    "from matplotlib import style\n",
    "from datetime import datetime\n",
    "style.use('ggplot')\n",
    "\n",
    "startedAt = datetime.now()\n",
    "print(\"Starting to fit at: \" + startedAt.strftime('%Y-%m-%d %H:%M:%S'))\n",
    "clf = OneVsRestClassifier(SVC(gamma=0.1, kernel='poly', C=10))\n",
    "clf.fit(X_train, y_train)\n",
    "finishedAt = datetime.now()\n",
    "print(\"Done at: \" + finishedAt.strftime('%Y-%m-%d %H:%M:%S'))\n",
    "print(\"Took \" +(str(finishedAt-startedAt)) + \" to finish.\")\n"
   ]
  },
  {
   "cell_type": "code",
   "execution_count": 6,
   "metadata": {},
   "outputs": [
    {
     "name": "stdout",
     "output_type": "stream",
     "text": [
      "\n",
      "Calculating Accuracy of trained Classifier...\n",
      "\n",
      "Making Predictions on Validation Data...\n",
      "\n",
      "Calculating Accuracy of Predictions...\n",
      "\n",
      "Creating Confusion Matrix...\n",
      "\n",
      "SVM Trained Classifier Accuracy:  0.8802\n",
      "\n",
      "Predicted Values:  [9 2 1 ... 8 1 5]\n",
      "\n",
      "Accuracy of Classifier on Validation Images:  0.8802\n",
      "\n",
      "Confusion Matrix: \n",
      " [[822   6  18  28   7   2 107   0  10   0]\n",
      " [  3 981   2  10   2   0   2   0   0   0]\n",
      " [ 30   1 799  10  84   0  75   0   1   0]\n",
      " [ 31   7  11 872  40   0  35   0   4   0]\n",
      " [  2   1  93  34 799   0  67   0   4   0]\n",
      " [  0   0   0   1   0 967   0  24   0   8]\n",
      " [130   0  75  27  69   0 693   0   6   0]\n",
      " [  0   0   0   0   0  18   0 955   0  27]\n",
      " [ 13   0   9   5   3   3  11   3 953   0]\n",
      " [  1   1   0   0   0   8   1  28   0 961]]\n"
     ]
    },
    {
     "data": {
      "image/png": "[encoded data removed]",
      "text/plain": [
       "<Figure size 288x288 with 2 Axes>"
      ]
     },
     "metadata": {},
     "output_type": "display_data"
    }
   ],
   "source": [
    "with open('MNIST_SVM.pickle','wb') as f:\n",
    "\tpickle.dump(clf, f)\n",
    "\n",
    "pickle_in = open('MNIST_SVM.pickle','rb')\n",
    "clf = pickle.load(pickle_in)\n",
    "\n",
    "print('\\nCalculating Accuracy of trained Classifier...')\n",
    "acc = clf.score(X_test,y_test)\n",
    "\n",
    "print('\\nMaking Predictions on Validation Data...')\n",
    "y_pred = clf.predict(X_test)\n",
    "\n",
    "print('\\nCalculating Accuracy of Predictions...')\n",
    "accuracy = accuracy_score(y_test, y_pred)\n",
    "\n",
    "print('\\nCreating Confusion Matrix...')\n",
    "conf_mat = confusion_matrix(y_test,y_pred)\n",
    "\n",
    "print('\\nSVM Trained Classifier Accuracy: ',acc)\n",
    "print('\\nPredicted Values: ',y_pred)\n",
    "print('\\nAccuracy of Classifier on Validation Images: ',accuracy)\n",
    "print('\\nConfusion Matrix: \\n',conf_mat)\n",
    "\n",
    "# Plot Confusion Matrix Data as a Matrix\n",
    "plt.matshow(conf_mat)\n",
    "plt.title('Confusion Matrix for Validation Data')\n",
    "plt.colorbar()\n",
    "plt.ylabel('True label')\n",
    "plt.xlabel('Predicted label')\n",
    "plt.show()"
   ]
  },
  {
   "cell_type": "markdown",
   "metadata": {},
   "source": [
    "# LDA\n",
    "\n",
    "These classifiers are attractive because they have closed-form solutions that can be easily computed, are inherently multiclass, have proven to work well in practice, and have no hyperparameters to tune.\n",
    "\n",
    "https://scikit-learn.org/stable/modules/lda_qda.html"
   ]
  },
  {
   "cell_type": "code",
   "execution_count": 22,
   "metadata": {},
   "outputs": [],
   "source": [
    "from sklearn.discriminant_analysis import LinearDiscriminantAnalysis as LDA\n",
    "\n",
    "lda = LDA(n_components=10)  \n",
    "X_train = lda.fit_transform(X_train, y_train)  \n",
    "#X_test = lda.transform(X_test)\n",
    "with open('MNIST_LDA.pickle','wb') as f:\n",
    "\tpickle.dump(lda, f)"
   ]
  },
  {
   "cell_type": "code",
   "execution_count": 23,
   "metadata": {},
   "outputs": [
    {
     "data": {
      "text/plain": [
       "(10000, 784)"
      ]
     },
     "execution_count": 23,
     "metadata": {},
     "output_type": "execute_result"
    }
   ],
   "source": [
    "X_test.shape"
   ]
  },
  {
   "cell_type": "code",
   "execution_count": 24,
   "metadata": {},
   "outputs": [
    {
     "name": "stdout",
     "output_type": "stream",
     "text": [
      "\n",
      "Calculating Accuracy of trained Classifier...\n",
      "\n",
      "Making Predictions on Validation Data...\n",
      "\n",
      "Calculating Accuracy of Predictions...\n",
      "\n",
      "Creating Confusion Matrix...\n",
      "\n",
      "SVM Trained Classifier Accuracy:  0.8151\n",
      "\n",
      "Predicted Values:  [9 2 1 ... 6 1 5]\n",
      "\n",
      "Accuracy of Classifier on Validation Images:  0.8151\n",
      "\n",
      "Confusion Matrix: \n",
      " [[777   0  15  66   7   3 123   0   9   0]\n",
      " [  5 933   9  43   4   0   4   0   2   0]\n",
      " [ 24   0 682  10 165   0 110   0   9   0]\n",
      " [ 19   1  17 846  32   2  81   0   2   0]\n",
      " [  0   2 111  30 743   0 110   0   4   0]\n",
      " [  0   0   0   1   0 890   0  64  12  33]\n",
      " [134   0 131  46 106   1 558   0  24   0]\n",
      " [  0   0   0   0   0  54   0 893   1  52]\n",
      " [  2   0   5  13   3  15  36   5 920   1]\n",
      " [  0   0   0   1   0  39   2  49   0 909]]\n"
     ]
    },
    {
     "data": {
      "image/png": "[encoded data removed]",
      "text/plain": [
       "<Figure size 288x288 with 2 Axes>"
      ]
     },
     "metadata": {},
     "output_type": "display_data"
    }
   ],
   "source": [
    "pickle_in = open('MNIST_LDA.pickle','rb')\n",
    "lda = pickle.load(pickle_in)\n",
    "\n",
    "print('\\nCalculating Accuracy of trained Classifier...')\n",
    "acc = lda.score(X_test,y_test)\n",
    "\n",
    "print('\\nMaking Predictions on Validation Data...')\n",
    "y_pred = lda.predict(X_test)\n",
    "\n",
    "print('\\nCalculating Accuracy of Predictions...')\n",
    "accuracy = accuracy_score(y_test, y_pred)\n",
    "\n",
    "print('\\nCreating Confusion Matrix...')\n",
    "conf_mat = confusion_matrix(y_test,y_pred)\n",
    "\n",
    "print('\\nSVM Trained Classifier Accuracy: ',acc)\n",
    "print('\\nPredicted Values: ',y_pred)\n",
    "print('\\nAccuracy of Classifier on Validation Images: ',accuracy)\n",
    "print('\\nConfusion Matrix: \\n',conf_mat)\n",
    "\n",
    "# Plot Confusion Matrix Data as a Matrix\n",
    "plt.matshow(conf_mat)\n",
    "plt.title('Confusion Matrix for Validation Data')\n",
    "plt.colorbar()\n",
    "plt.ylabel('True label')\n",
    "plt.xlabel('Predicted label')\n",
    "plt.show()"
   ]
  },
  {
   "cell_type": "code",
   "execution_count": null,
   "metadata": {},
   "outputs": [],
   "source": []
  }
 ],
 "metadata": {
  "kernelspec": {
   "display_name": "Python 3",
   "language": "python",
   "name": "python3"
  }
 },
 "nbformat": 4,
 "nbformat_minor": 2
}
